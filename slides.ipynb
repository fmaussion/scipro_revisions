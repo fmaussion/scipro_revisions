{
 "cells": [
  {
   "cell_type": "markdown",
   "metadata": {
    "slideshow": {
     "slide_type": "slide"
    }
   },
   "source": [
    "    \n",
    "# Scientific Programming\n",
    "\n",
    "[LV 707716](https://orawww.uibk.ac.at/public/lfuonline_lv.details?sem_id_in=18W&lvnr_id_in=707716)\n",
    "\n",
    "**[Fabien Maussion](http://fabienmaussion.info) & Lilian Schuster**\n",
    "\n",
    "<img align=\"left\" width=\"30%\" src=\"https://www.uibk.ac.at/public-relations/grafik_design/images/logo/download/sublogos/institute-sublogos/atmospheric-and-cryospheric-sciences.png\"/>\n"
   ]
  },
  {
   "cell_type": "markdown",
   "metadata": {
    "slideshow": {
     "slide_type": "slide"
    }
   },
   "source": [
    "## How to use these slides\n",
    "\n",
    "- ``<space>`` : go to the next slide\n",
    "- ``<shift+space>``: go back\n",
    "- ``<left right up down arrows>``: navigate through the presentation structure\n",
    "- ``<esc>``: toggle overview mode"
   ]
  },
  {
   "cell_type": "markdown",
   "metadata": {
    "slideshow": {
     "slide_type": "slide"
    }
   },
   "source": [
    "<a href=\"https://creativecommons.org/licenses/by-nc-sa/4.0/\" target=\"_blank\">\n",
    "  <img align=\"left\" src=\"https://mirrors.creativecommons.org/presskit/buttons/88x31/svg/by-nc-sa.eu.svg\"/>\n",
    "</a>\n",
    "\n",
    "<br>\n",
    "<br>\n",
    "        \n",
    "These lecture notes and exercises are licensed under a [Creative Commons Attribution-NonCommercial-ShareAlike 4.0 International License](https://creativecommons.org/licenses/by-nc-sa/4.0/).\n",
    "\n",
    "Feel free to use / adapt them, but don't sell them, and share them under the same licence."
   ]
  },
  {
   "cell_type": "markdown",
   "metadata": {
    "slideshow": {
     "slide_type": "slide"
    }
   },
   "source": [
    "## About me \n",
    "\n",
    "- 2008: master of aerospace engineering in F-Toulouse\n",
    "- 2008-2014: PhD and post-doc in Climatology, TU Berlin\n",
    "- 2014-2015: post-doc at UIBK\n",
    "- Since Oct. 2015: university assistant at UIBK\n",
    "- Research:\n",
    "    - Regional climatology (Tibetan Plateau, Tropical Andes)\n",
    "    - Climate controls on glacier mass-balance\n",
    "    - Global glacier models\n",
    "    - Open source and open science"
   ]
  },
  {
   "cell_type": "markdown",
   "metadata": {
    "slideshow": {
     "slide_type": "slide"
    }
   },
   "source": [
    "# Organisational"
   ]
  },
  {
   "cell_type": "markdown",
   "metadata": {
    "slideshow": {
     "slide_type": "subslide"
    }
   },
   "source": [
    "**Lecture**:\n",
    "- Tuesdays 08:30-10:00 (Computer Room): Fabien Maussion\n",
    "- Lecture notes: http://fabienmaussion.info/scientific_programming\n",
    "\n",
    "**Homework**:\n",
    "- weekly (at home or in computer room). Groups to be formed until next week.\n",
    "- **Each Tuesday, one group present their solution to the rest of the class**\n",
    "\n",
    "**Tutorium**:\n",
    "- Mondays 11.00-12.00 OK? (Computer Room): Lilian Schuster"
   ]
  },
  {
   "cell_type": "markdown",
   "metadata": {
    "slideshow": {
     "slide_type": "subslide"
    }
   },
   "source": [
    "## Grading:\n",
    "- mid-term group project (the ``visclim`` package): 20%\n",
    "- end-term group project (the ``pelita`` game): 20%\n",
    "- oral examination at the end of the semester: 60%\n",
    "\n",
    "**Positive evaluation of each element mandatory to pass the class!**"
   ]
  },
  {
   "cell_type": "markdown",
   "metadata": {
    "slideshow": {
     "slide_type": "slide"
    }
   },
   "source": [
    "## HOWTO #thiscourse \n",
    "\n",
    "Lecture notes: http://fabienmaussion.info/scientific_programming\n",
    "\n",
    "This course is of the #doityourself kind. Get your questions ready for the upcoming week: \n",
    "    \n",
    "**more questions $\\rightarrow$ more explanations!**"
   ]
  },
  {
   "cell_type": "markdown",
   "metadata": {
    "slideshow": {
     "slide_type": "subslide"
    }
   },
   "source": [
    "**Contact**: via email (available on OLAT) or OLAT forum\n",
    "\n",
    "**Attendance**: your choice\n",
    "\n",
    "**Agenda**: we meet weekly - if classes are canceled I will let you know and update LFU Online\n",
    "\n",
    "**Your partitipation**: highly encouraged. Interrupt any time, ask questions!"
   ]
  },
  {
   "cell_type": "markdown",
   "metadata": {
    "slideshow": {
     "slide_type": "slide"
    }
   },
   "source": [
    "## Homework\n",
    "\n",
    "I form the groups based on questionnaire until next week.\n",
    "\n",
    "Each week, one group is selected randomly to present their solution for next week."
   ]
  },
  {
   "cell_type": "markdown",
   "metadata": {
    "slideshow": {
     "slide_type": "slide"
    }
   },
   "source": [
    "# Scientific programming?"
   ]
  },
  {
   "cell_type": "markdown",
   "metadata": {
    "slideshow": {
     "slide_type": "fragment"
    }
   },
   "source": [
    "**Scientific programming** targets to solve scientific problems with the help of computers."
   ]
  },
  {
   "cell_type": "markdown",
   "metadata": {
    "slideshow": {
     "slide_type": "fragment"
    }
   },
   "source": [
    " $\\rightarrow$ **Programming**  as a tool to do science"
   ]
  },
  {
   "cell_type": "markdown",
   "metadata": {
    "slideshow": {
     "slide_type": "slide"
    }
   },
   "source": [
    "# Why should we learn programming?"
   ]
  },
  {
   "cell_type": "markdown",
   "metadata": {
    "slideshow": {
     "slide_type": "fragment"
    }
   },
   "source": [
    "- **Data** $\\rightarrow$ **\"Big Data\"**"
   ]
  },
  {
   "cell_type": "markdown",
   "metadata": {
    "slideshow": {
     "slide_type": "fragment"
    }
   },
   "source": [
    "- **Science is rarely done with a \"piece of paper and a pen\" anymore**"
   ]
  },
  {
   "cell_type": "markdown",
   "metadata": {
    "slideshow": {
     "slide_type": "fragment"
    }
   },
   "source": [
    "- **Programs = automated = reproducible** (almost) "
   ]
  },
  {
   "cell_type": "markdown",
   "metadata": {
    "slideshow": {
     "slide_type": "fragment"
    }
   },
   "source": [
    "- Good programming skills are a strong asset for your career and to better understand our digital world"
   ]
  },
  {
   "cell_type": "markdown",
   "metadata": {
    "slideshow": {
     "slide_type": "subslide"
    }
   },
   "source": [
    "<center> <img src=\"https://fabienmaussion.info/scientific_programming/img/00_messing_python.png\" width=\"60%\"></center>\n",
    "\n",
    "Adapted from [xkcd](https://xkcd.com/519/)    "
   ]
  },
  {
   "cell_type": "markdown",
   "metadata": {
    "slideshow": {
     "slide_type": "slide"
    }
   },
   "source": [
    "# Why Python?"
   ]
  },
  {
   "cell_type": "markdown",
   "metadata": {
    "slideshow": {
     "slide_type": "fragment"
    }
   },
   "source": [
    "- general purpose programming language"
   ]
  },
  {
   "cell_type": "markdown",
   "metadata": {
    "slideshow": {
     "slide_type": "fragment"
    }
   },
   "source": [
    "- well suited to learn programming"
   ]
  },
  {
   "cell_type": "markdown",
   "metadata": {
    "slideshow": {
     "slide_type": "fragment"
    }
   },
   "source": [
    "- one of the [fastest growing languages for data science](https://stackoverflow.blog/2017/09/06/incredible-growth-python/)"
   ]
  },
  {
   "cell_type": "markdown",
   "metadata": {
    "slideshow": {
     "slide_type": "fragment"
    }
   },
   "source": [
    "- Free and open-source"
   ]
  },
  {
   "cell_type": "markdown",
   "metadata": {
    "slideshow": {
     "slide_type": "subslide"
    }
   },
   "source": [
    "**But: this lecture is not a course about the python syntax**. We are using python as a tool to learn general programming concepts, not the other way around."
   ]
  },
  {
   "cell_type": "markdown",
   "metadata": {
    "slideshow": {
     "slide_type": "slide"
    }
   },
   "source": [
    "### Your turn:\n",
    "\n",
    "# What would like to learn from this course? "
   ]
  },
  {
   "cell_type": "markdown",
   "metadata": {
    "slideshow": {
     "slide_type": "slide"
    }
   },
   "source": [
    "### My objective:\n",
    "\n",
    "### Help you to master your future programming tasks as efficiently and correctly as possible."
   ]
  },
  {
   "cell_type": "markdown",
   "metadata": {
    "slideshow": {
     "slide_type": "slide"
    }
   },
   "source": [
    "# Tentative program\n",
    "\n",
    "- Introduction to Linux\n",
    "- Semantics: revisiting and formalizing the basic programming structures (loops, functions, conditional blocks...)\n",
    "- General programming concepts, differences between compiled and interpreted languages\n",
    "- Numerics: floating point numbers, N-dimensional arrays\n",
    "- Software structure: packages, modules, functions, scripts\n",
    "- Object oriented programming: fundamentals, usage, and basic design patterns\n",
    "- Code testing\n",
    "- Real world applications!"
   ]
  },
  {
   "cell_type": "markdown",
   "metadata": {
    "slideshow": {
     "slide_type": "slide"
    }
   },
   "source": [
    "# Program for today\n",
    "\n",
    "- questionnaires\n",
    "- a very short introduction to Linux\n",
    "- installing Python"
   ]
  }
 ],
 "metadata": {
  "celltoolbar": "Slideshow",
  "hide_input": false,
  "kernelspec": {
   "display_name": "Python 3",
   "language": "python",
   "name": "python3"
  },
  "language_info": {
   "codemirror_mode": {
    "name": "ipython",
    "version": 3
   },
   "file_extension": ".py",
   "mimetype": "text/x-python",
   "name": "python",
   "nbconvert_exporter": "python",
   "pygments_lexer": "ipython3",
   "version": "3.5.2"
  },
  "toc": {
   "base_numbering": 1,
   "nav_menu": {},
   "number_sections": false,
   "sideBar": true,
   "skip_h1_title": true,
   "title_cell": "Table of Contents",
   "title_sidebar": "Contents",
   "toc_cell": false,
   "toc_position": {},
   "toc_section_display": true,
   "toc_window_display": false
  }
 },
 "nbformat": 4,
 "nbformat_minor": 2
}
