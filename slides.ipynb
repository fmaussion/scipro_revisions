{
 "cells": [
  {
   "cell_type": "markdown",
   "metadata": {
    "slideshow": {
     "slide_type": "slide"
    }
   },
   "source": [
    "<center>\n",
    "# Scientific Programming\n",
    "<center>\n",
    "[LV 707716](https://orawww.uibk.ac.at/public/lfuonline_lv.details?sem_id_in=18S&lvnr_id_in=707716)\n",
    "<center>\n",
    "**[Fabien Maussion](http://fabienmaussion.info) & Matthias Göbel**\n",
    "<center>\n",
    "  <img align=\"center\" width=\"30%\" src=\"https://www.uibk.ac.at/public-relations/grafik_design/images/logo/download/sublogos/institute-sublogos/atmospheric-and-cryospheric-sciences.png\"/>"
   ]
  },
  {
   "cell_type": "markdown",
   "metadata": {
    "slideshow": {
     "slide_type": "slide"
    }
   },
   "source": [
    "## How to use these slides\n",
    "\n",
    "- ``<space>`` : go to the next slide\n",
    "- ``<shift+space>``: go back\n",
    "- ``<left right up down arrows>``: navigate through the presentation structure\n",
    "- ``<esc>``: toggle overview mode"
   ]
  },
  {
   "cell_type": "markdown",
   "metadata": {
    "slideshow": {
     "slide_type": "slide"
    }
   },
   "source": [
    "<a href=\"https://creativecommons.org/licenses/by-nc-sa/4.0/\" target=\"_blank\">\n",
    "  <img align=\"left\" src=\"https://mirrors.creativecommons.org/presskit/buttons/88x31/svg/by-nc-sa.eu.svg\"/>\n",
    "</a>\n",
    "\n",
    "<br>\n",
    "<br>\n",
    "        \n",
    "These lecture notes and exercises are licensed under a [Creative Commons Attribution-NonCommercial-ShareAlike 4.0 International License](https://creativecommons.org/licenses/by-nc-sa/4.0/).\n",
    "\n",
    "Feel free to use / adapt them, but don't sell them, and share them under the same licence."
   ]
  },
  {
   "cell_type": "markdown",
   "metadata": {
    "slideshow": {
     "slide_type": "slide"
    }
   },
   "source": [
    "# Organisational"
   ]
  },
  {
   "cell_type": "markdown",
   "metadata": {
    "slideshow": {
     "slide_type": "subslide"
    }
   },
   "source": [
    "**Lecture**:\n",
    "- Mondays 08:30-10:00 (Computer Room): Fabien Maussion\n",
    "- Lecture notes: http://fabienmaussion.info/scientific_programming\n",
    "\n",
    "**Homework**:\n",
    "- weekly (at home or in computer room). Groups to be formed until next week. **Each Monday, one group present their solution to the rest of the class**.\n",
    "\n",
    "**Tutorium**:\n",
    "- **When?** (Computer Room): Matthias Göbel"
   ]
  },
  {
   "cell_type": "markdown",
   "metadata": {
    "slideshow": {
     "slide_type": "subslide"
    }
   },
   "source": [
    "### Grading:\n",
    "- Homework presentation (10%)\n",
    "- End of semester group project (20%)\n",
    "- Exam (70%)\n",
    "\n",
    "**Positive evaluation of each element mendatory to pass the class!**"
   ]
  },
  {
   "cell_type": "markdown",
   "metadata": {
    "slideshow": {
     "slide_type": "subslide"
    }
   },
   "source": [
    "**Contact**: via email (available on OLAT) or OLAT forum\n",
    "\n",
    "**Attendance**: your choice (except on the days you have to present of course)\n",
    "\n",
    "**Agenda**: we meet weekly - if classes are canceled I will let you know and update LFU Online\n",
    "\n",
    "**Your partitipation**: Highly encouraged. Interrupt us any time, ask questions!"
   ]
  },
  {
   "cell_type": "markdown",
   "metadata": {
    "slideshow": {
     "slide_type": "slide"
    }
   },
   "source": [
    "# Scientific programming?"
   ]
  },
  {
   "cell_type": "markdown",
   "metadata": {
    "slideshow": {
     "slide_type": "fragment"
    }
   },
   "source": [
    "**Scientific programming** targets to solve scientific problems with the help of computers."
   ]
  },
  {
   "cell_type": "markdown",
   "metadata": {
    "slideshow": {
     "slide_type": "fragment"
    }
   },
   "source": [
    " $\\rightarrow$ **Programming**  as a tool to do science"
   ]
  },
  {
   "cell_type": "markdown",
   "metadata": {
    "slideshow": {
     "slide_type": "slide"
    }
   },
   "source": [
    "# Why should we learn programming?"
   ]
  },
  {
   "cell_type": "markdown",
   "metadata": {
    "slideshow": {
     "slide_type": "fragment"
    }
   },
   "source": [
    "- **Data** $\\rightarrow$ **\"Big Data\"**"
   ]
  },
  {
   "cell_type": "markdown",
   "metadata": {
    "slideshow": {
     "slide_type": "fragment"
    }
   },
   "source": [
    "- **Science is rarely done with a \"piece of paper and a pen\" anymore**"
   ]
  },
  {
   "cell_type": "markdown",
   "metadata": {
    "slideshow": {
     "slide_type": "fragment"
    }
   },
   "source": [
    "- **Programs = automated = reproducible** (almost) "
   ]
  },
  {
   "cell_type": "markdown",
   "metadata": {
    "slideshow": {
     "slide_type": "fragment"
    }
   },
   "source": [
    "- Good programming skills are a strong asset for your career and to better understand our digital world"
   ]
  },
  {
   "cell_type": "markdown",
   "metadata": {
    "slideshow": {
     "slide_type": "subslide"
    }
   },
   "source": [
    "<center> <img src=\"https://www.fabienmaussion.info/scientific_programming/img/00_messing_python.png\" width=\"60%\"></center>\n",
    "<small>Adapted from [xkcd](https://xkcd.com/519/)</small>"
   ]
  },
  {
   "cell_type": "markdown",
   "metadata": {
    "slideshow": {
     "slide_type": "slide"
    }
   },
   "source": [
    "# Why Python?"
   ]
  },
  {
   "cell_type": "markdown",
   "metadata": {
    "slideshow": {
     "slide_type": "fragment"
    }
   },
   "source": [
    "- general purpose programming language"
   ]
  },
  {
   "cell_type": "markdown",
   "metadata": {
    "slideshow": {
     "slide_type": "fragment"
    }
   },
   "source": [
    "- well suited to learn programming"
   ]
  },
  {
   "cell_type": "markdown",
   "metadata": {
    "slideshow": {
     "slide_type": "fragment"
    }
   },
   "source": [
    "- one of the [fastest growing languages for data science](https://stackoverflow.blog/2017/09/06/incredible-growth-python/)"
   ]
  },
  {
   "cell_type": "markdown",
   "metadata": {
    "slideshow": {
     "slide_type": "fragment"
    }
   },
   "source": [
    "- Free and open-source"
   ]
  },
  {
   "cell_type": "markdown",
   "metadata": {
    "slideshow": {
     "slide_type": "subslide"
    }
   },
   "source": [
    "**But: this lecture is not a course about the python syntax**. We are using python as a tool to learn general programming concepts, not the other way around."
   ]
  },
  {
   "cell_type": "markdown",
   "metadata": {
    "slideshow": {
     "slide_type": "slide"
    }
   },
   "source": [
    "### Your turn:\n",
    "\n",
    "# What would like to learn from this course? "
   ]
  },
  {
   "cell_type": "markdown",
   "metadata": {
    "slideshow": {
     "slide_type": "slide"
    }
   },
   "source": [
    "### My objective:\n",
    "\n",
    "### Help you to master your future programming tasks as efficiently and correctly as possible."
   ]
  },
  {
   "cell_type": "markdown",
   "metadata": {
    "slideshow": {
     "slide_type": "slide"
    }
   },
   "source": [
    "# Tentative program\n",
    "\n",
    "- Semantics: revisiting and formalizing the basic programming structures\n",
    "- General programming concepts, differences between compiled and interpreted languages\n",
    "- Numerics: floating point numbers, N-dimensional arrays\n",
    "- Software structure: packages, modules, functions, scripts\n",
    "- Object oriented programming: fundamentals, usage, and basic design patterns\n",
    "- Code testing and version control\n",
    "- Real world applications!"
   ]
  },
  {
   "cell_type": "markdown",
   "metadata": {
    "slideshow": {
     "slide_type": "slide"
    }
   },
   "source": [
    "# HOWTO #thiscourse \n",
    "\n",
    "Lecture notes: http://fabienmaussion.info/scientific_programming\n",
    "\n",
    "This course is of the #doityourself kind. Get your questions ready for the upcoming week: \n",
    "\n",
    "<center>**more questions $\\rightarrow$ more explanations!**"
   ]
  },
  {
   "cell_type": "markdown",
   "metadata": {
    "slideshow": {
     "slide_type": "slide"
    }
   },
   "source": [
    "# Program for today\n",
    "\n",
    "- [01 - A very short introduction to Linux](01-Linux.ipynb)\n",
    "- [02 - Installing Python](02-Installation.ipynb)\n",
    "- [03 - Getting started with Python](03-Getting-Started.ipynb)\n",
    "- [04 - Assignment #01: gaining speed with Python](04-Assignment-01.ipynb)"
   ]
  }
 ],
 "metadata": {
  "celltoolbar": "Slideshow",
  "hide_input": false,
  "kernelspec": {
   "display_name": "Python 3",
   "language": "python",
   "name": "python3"
  },
  "language_info": {
   "codemirror_mode": {
    "name": "ipython",
    "version": 3
   },
   "file_extension": ".py",
   "mimetype": "text/x-python",
   "name": "python",
   "nbconvert_exporter": "python",
   "pygments_lexer": "ipython3",
   "version": "3.5.2"
  },
  "toc": {
   "base_numbering": 1,
   "nav_menu": {},
   "number_sections": false,
   "sideBar": true,
   "skip_h1_title": true,
   "title_cell": "Table of Contents",
   "title_sidebar": "Contents",
   "toc_cell": false,
   "toc_position": {},
   "toc_section_display": true,
   "toc_window_display": false
  }
 },
 "nbformat": 4,
 "nbformat_minor": 2
}
